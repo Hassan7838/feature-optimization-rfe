{
  "nbformat": 4,
  "nbformat_minor": 0,
  "metadata": {
    "colab": {
      "provenance": [],
      "authorship_tag": "ABX9TyOMlyDm3++5hEAkluyaQPIm",
      "include_colab_link": true
    },
    "kernelspec": {
      "name": "python3",
      "display_name": "Python 3"
    },
    "language_info": {
      "name": "python"
    }
  },
  "cells": [
    {
      "cell_type": "markdown",
      "metadata": {
        "id": "view-in-github",
        "colab_type": "text"
      },
      "source": [
        "<a href=\"https://colab.research.google.com/github/Hassan7838/feature-optimization-rfe/blob/main/feature-optimization-rfe.ipynb\" target=\"_parent\"><img src=\"https://colab.research.google.com/assets/colab-badge.svg\" alt=\"Open In Colab\"/></a>"
      ]
    },
    {
      "cell_type": "code",
      "execution_count": null,
      "metadata": {
        "colab": {
          "base_uri": "https://localhost:8080/",
          "height": 73
        },
        "id": "nBwbCzv1Iwj6",
        "outputId": "e16f10c8-ec98-4942-91e7-7c4237ff817b"
      },
      "outputs": [
        {
          "output_type": "display_data",
          "data": {
            "text/plain": [
              "<IPython.core.display.HTML object>"
            ],
            "text/html": [
              "\n",
              "     <input type=\"file\" id=\"files-d11658f3-436f-424f-9505-551f31571e1e\" name=\"files[]\" multiple disabled\n",
              "        style=\"border:none\" />\n",
              "     <output id=\"result-d11658f3-436f-424f-9505-551f31571e1e\">\n",
              "      Upload widget is only available when the cell has been executed in the\n",
              "      current browser session. Please rerun this cell to enable.\n",
              "      </output>\n",
              "      <script>// Copyright 2017 Google LLC\n",
              "//\n",
              "// Licensed under the Apache License, Version 2.0 (the \"License\");\n",
              "// you may not use this file except in compliance with the License.\n",
              "// You may obtain a copy of the License at\n",
              "//\n",
              "//      http://www.apache.org/licenses/LICENSE-2.0\n",
              "//\n",
              "// Unless required by applicable law or agreed to in writing, software\n",
              "// distributed under the License is distributed on an \"AS IS\" BASIS,\n",
              "// WITHOUT WARRANTIES OR CONDITIONS OF ANY KIND, either express or implied.\n",
              "// See the License for the specific language governing permissions and\n",
              "// limitations under the License.\n",
              "\n",
              "/**\n",
              " * @fileoverview Helpers for google.colab Python module.\n",
              " */\n",
              "(function(scope) {\n",
              "function span(text, styleAttributes = {}) {\n",
              "  const element = document.createElement('span');\n",
              "  element.textContent = text;\n",
              "  for (const key of Object.keys(styleAttributes)) {\n",
              "    element.style[key] = styleAttributes[key];\n",
              "  }\n",
              "  return element;\n",
              "}\n",
              "\n",
              "// Max number of bytes which will be uploaded at a time.\n",
              "const MAX_PAYLOAD_SIZE = 100 * 1024;\n",
              "\n",
              "function _uploadFiles(inputId, outputId) {\n",
              "  const steps = uploadFilesStep(inputId, outputId);\n",
              "  const outputElement = document.getElementById(outputId);\n",
              "  // Cache steps on the outputElement to make it available for the next call\n",
              "  // to uploadFilesContinue from Python.\n",
              "  outputElement.steps = steps;\n",
              "\n",
              "  return _uploadFilesContinue(outputId);\n",
              "}\n",
              "\n",
              "// This is roughly an async generator (not supported in the browser yet),\n",
              "// where there are multiple asynchronous steps and the Python side is going\n",
              "// to poll for completion of each step.\n",
              "// This uses a Promise to block the python side on completion of each step,\n",
              "// then passes the result of the previous step as the input to the next step.\n",
              "function _uploadFilesContinue(outputId) {\n",
              "  const outputElement = document.getElementById(outputId);\n",
              "  const steps = outputElement.steps;\n",
              "\n",
              "  const next = steps.next(outputElement.lastPromiseValue);\n",
              "  return Promise.resolve(next.value.promise).then((value) => {\n",
              "    // Cache the last promise value to make it available to the next\n",
              "    // step of the generator.\n",
              "    outputElement.lastPromiseValue = value;\n",
              "    return next.value.response;\n",
              "  });\n",
              "}\n",
              "\n",
              "/**\n",
              " * Generator function which is called between each async step of the upload\n",
              " * process.\n",
              " * @param {string} inputId Element ID of the input file picker element.\n",
              " * @param {string} outputId Element ID of the output display.\n",
              " * @return {!Iterable<!Object>} Iterable of next steps.\n",
              " */\n",
              "function* uploadFilesStep(inputId, outputId) {\n",
              "  const inputElement = document.getElementById(inputId);\n",
              "  inputElement.disabled = false;\n",
              "\n",
              "  const outputElement = document.getElementById(outputId);\n",
              "  outputElement.innerHTML = '';\n",
              "\n",
              "  const pickedPromise = new Promise((resolve) => {\n",
              "    inputElement.addEventListener('change', (e) => {\n",
              "      resolve(e.target.files);\n",
              "    });\n",
              "  });\n",
              "\n",
              "  const cancel = document.createElement('button');\n",
              "  inputElement.parentElement.appendChild(cancel);\n",
              "  cancel.textContent = 'Cancel upload';\n",
              "  const cancelPromise = new Promise((resolve) => {\n",
              "    cancel.onclick = () => {\n",
              "      resolve(null);\n",
              "    };\n",
              "  });\n",
              "\n",
              "  // Wait for the user to pick the files.\n",
              "  const files = yield {\n",
              "    promise: Promise.race([pickedPromise, cancelPromise]),\n",
              "    response: {\n",
              "      action: 'starting',\n",
              "    }\n",
              "  };\n",
              "\n",
              "  cancel.remove();\n",
              "\n",
              "  // Disable the input element since further picks are not allowed.\n",
              "  inputElement.disabled = true;\n",
              "\n",
              "  if (!files) {\n",
              "    return {\n",
              "      response: {\n",
              "        action: 'complete',\n",
              "      }\n",
              "    };\n",
              "  }\n",
              "\n",
              "  for (const file of files) {\n",
              "    const li = document.createElement('li');\n",
              "    li.append(span(file.name, {fontWeight: 'bold'}));\n",
              "    li.append(span(\n",
              "        `(${file.type || 'n/a'}) - ${file.size} bytes, ` +\n",
              "        `last modified: ${\n",
              "            file.lastModifiedDate ? file.lastModifiedDate.toLocaleDateString() :\n",
              "                                    'n/a'} - `));\n",
              "    const percent = span('0% done');\n",
              "    li.appendChild(percent);\n",
              "\n",
              "    outputElement.appendChild(li);\n",
              "\n",
              "    const fileDataPromise = new Promise((resolve) => {\n",
              "      const reader = new FileReader();\n",
              "      reader.onload = (e) => {\n",
              "        resolve(e.target.result);\n",
              "      };\n",
              "      reader.readAsArrayBuffer(file);\n",
              "    });\n",
              "    // Wait for the data to be ready.\n",
              "    let fileData = yield {\n",
              "      promise: fileDataPromise,\n",
              "      response: {\n",
              "        action: 'continue',\n",
              "      }\n",
              "    };\n",
              "\n",
              "    // Use a chunked sending to avoid message size limits. See b/62115660.\n",
              "    let position = 0;\n",
              "    do {\n",
              "      const length = Math.min(fileData.byteLength - position, MAX_PAYLOAD_SIZE);\n",
              "      const chunk = new Uint8Array(fileData, position, length);\n",
              "      position += length;\n",
              "\n",
              "      const base64 = btoa(String.fromCharCode.apply(null, chunk));\n",
              "      yield {\n",
              "        response: {\n",
              "          action: 'append',\n",
              "          file: file.name,\n",
              "          data: base64,\n",
              "        },\n",
              "      };\n",
              "\n",
              "      let percentDone = fileData.byteLength === 0 ?\n",
              "          100 :\n",
              "          Math.round((position / fileData.byteLength) * 100);\n",
              "      percent.textContent = `${percentDone}% done`;\n",
              "\n",
              "    } while (position < fileData.byteLength);\n",
              "  }\n",
              "\n",
              "  // All done.\n",
              "  yield {\n",
              "    response: {\n",
              "      action: 'complete',\n",
              "    }\n",
              "  };\n",
              "}\n",
              "\n",
              "scope.google = scope.google || {};\n",
              "scope.google.colab = scope.google.colab || {};\n",
              "scope.google.colab._files = {\n",
              "  _uploadFiles,\n",
              "  _uploadFilesContinue,\n",
              "};\n",
              "})(self);\n",
              "</script> "
            ]
          },
          "metadata": {}
        },
        {
          "output_type": "stream",
          "name": "stdout",
          "text": [
            "Saving train.csv to train (2).csv\n"
          ]
        }
      ],
      "source": [
        "# Feature Optimization for Classification Problems using Recursive Feature Elimination (RFE)\n",
        "\n",
        "# Upload DataSet\n",
        "from google.colab import files\n",
        "upload = files.upload()"
      ]
    },
    {
      "cell_type": "code",
      "source": [
        "# Getting DataSet\n",
        "import pandas as pd\n",
        "df = pd.read_csv('train.csv')\n",
        "\n",
        "# Preview Data\n",
        "print('---First Five Rows---')\n",
        "print(df.head())\n",
        "print('---Information---')\n",
        "print(df.info())\n",
        "print('---Missing Values---')\n",
        "print(df.isnull().sum())"
      ],
      "metadata": {
        "colab": {
          "base_uri": "https://localhost:8080/"
        },
        "id": "egLGp8ziJ_TO",
        "outputId": "e5598b0a-3a02-486d-872a-191d2402aeb3"
      },
      "execution_count": null,
      "outputs": [
        {
          "output_type": "stream",
          "name": "stdout",
          "text": [
            "---First Five Rows---\n",
            "   PassengerId  Survived  Pclass  \\\n",
            "0            1         0       3   \n",
            "1            2         1       1   \n",
            "2            3         1       3   \n",
            "3            4         1       1   \n",
            "4            5         0       3   \n",
            "\n",
            "                                                Name     Sex   Age  SibSp  \\\n",
            "0                            Braund, Mr. Owen Harris    male  22.0      1   \n",
            "1  Cumings, Mrs. John Bradley (Florence Briggs Th...  female  38.0      1   \n",
            "2                             Heikkinen, Miss. Laina  female  26.0      0   \n",
            "3       Futrelle, Mrs. Jacques Heath (Lily May Peel)  female  35.0      1   \n",
            "4                           Allen, Mr. William Henry    male  35.0      0   \n",
            "\n",
            "   Parch            Ticket     Fare Cabin Embarked  \n",
            "0      0         A/5 21171   7.2500   NaN        S  \n",
            "1      0          PC 17599  71.2833   C85        C  \n",
            "2      0  STON/O2. 3101282   7.9250   NaN        S  \n",
            "3      0            113803  53.1000  C123        S  \n",
            "4      0            373450   8.0500   NaN        S  \n",
            "---Information---\n",
            "<class 'pandas.core.frame.DataFrame'>\n",
            "RangeIndex: 891 entries, 0 to 890\n",
            "Data columns (total 12 columns):\n",
            " #   Column       Non-Null Count  Dtype  \n",
            "---  ------       --------------  -----  \n",
            " 0   PassengerId  891 non-null    int64  \n",
            " 1   Survived     891 non-null    int64  \n",
            " 2   Pclass       891 non-null    int64  \n",
            " 3   Name         891 non-null    object \n",
            " 4   Sex          891 non-null    object \n",
            " 5   Age          714 non-null    float64\n",
            " 6   SibSp        891 non-null    int64  \n",
            " 7   Parch        891 non-null    int64  \n",
            " 8   Ticket       891 non-null    object \n",
            " 9   Fare         891 non-null    float64\n",
            " 10  Cabin        204 non-null    object \n",
            " 11  Embarked     889 non-null    object \n",
            "dtypes: float64(2), int64(5), object(5)\n",
            "memory usage: 83.7+ KB\n",
            "None\n",
            "---Missing Values---\n",
            "PassengerId      0\n",
            "Survived         0\n",
            "Pclass           0\n",
            "Name             0\n",
            "Sex              0\n",
            "Age            177\n",
            "SibSp            0\n",
            "Parch            0\n",
            "Ticket           0\n",
            "Fare             0\n",
            "Cabin          687\n",
            "Embarked         2\n",
            "dtype: int64\n"
          ]
        }
      ]
    },
    {
      "cell_type": "code",
      "source": [
        "# Preprocess DataSet\n",
        "df = df.drop([\"PassengerId\",\"Name\",\"Ticket\",\"Cabin\"], axis=1)\n",
        "\n",
        "# Fill Missing Values\n",
        "df[\"Age\"].fillna(df[\"Age\"].median(),inplace=True)\n",
        "df[\"Embarked\"].fillna(df[\"Embarked\"].mode()[0],inplace=True)\n",
        "\n",
        "# Encode Categorical To Numerical\n",
        "df[\"Sex\"] = df[\"Sex\"].map({\"male\":0,\"female\":1})\n",
        "df[\"Embarked\"] = df[\"Embarked\"].map({\"S\":1,\"C\":2,\"Q\":3})\n",
        "\n",
        "# Checking dataSet\n",
        "print(df.isnull().sum())\n",
        "print(df.head())"
      ],
      "metadata": {
        "colab": {
          "base_uri": "https://localhost:8080/"
        },
        "id": "IbLn5s1BLGRN",
        "outputId": "60252b8e-c524-4953-af7f-a1c57bc009b0"
      },
      "execution_count": null,
      "outputs": [
        {
          "output_type": "stream",
          "name": "stdout",
          "text": [
            "Survived    0\n",
            "Pclass      0\n",
            "Sex         0\n",
            "Age         0\n",
            "SibSp       0\n",
            "Parch       0\n",
            "Fare        0\n",
            "Embarked    0\n",
            "dtype: int64\n",
            "   Survived  Pclass  Sex   Age  SibSp  Parch     Fare  Embarked\n",
            "0         0       3    0  22.0      1      0   7.2500         1\n",
            "1         1       1    1  38.0      1      0  71.2833         2\n",
            "2         1       3    1  26.0      0      0   7.9250         1\n",
            "3         1       1    1  35.0      1      0  53.1000         1\n",
            "4         0       3    0  35.0      0      0   8.0500         1\n"
          ]
        },
        {
          "output_type": "stream",
          "name": "stderr",
          "text": [
            "/tmp/ipython-input-2127395212.py:5: FutureWarning: A value is trying to be set on a copy of a DataFrame or Series through chained assignment using an inplace method.\n",
            "The behavior will change in pandas 3.0. This inplace method will never work because the intermediate object on which we are setting values always behaves as a copy.\n",
            "\n",
            "For example, when doing 'df[col].method(value, inplace=True)', try using 'df.method({col: value}, inplace=True)' or df[col] = df[col].method(value) instead, to perform the operation inplace on the original object.\n",
            "\n",
            "\n",
            "  df[\"Age\"].fillna(df[\"Age\"].median(),inplace=True)\n",
            "/tmp/ipython-input-2127395212.py:6: FutureWarning: A value is trying to be set on a copy of a DataFrame or Series through chained assignment using an inplace method.\n",
            "The behavior will change in pandas 3.0. This inplace method will never work because the intermediate object on which we are setting values always behaves as a copy.\n",
            "\n",
            "For example, when doing 'df[col].method(value, inplace=True)', try using 'df.method({col: value}, inplace=True)' or df[col] = df[col].method(value) instead, to perform the operation inplace on the original object.\n",
            "\n",
            "\n",
            "  df[\"Embarked\"].fillna(df[\"Embarked\"].mode()[0],inplace=True)\n"
          ]
        }
      ]
    },
    {
      "cell_type": "code",
      "source": [
        "# Train/Test Split + RFECV\n",
        "from sklearn.model_selection import train_test_split, StratifiedKFold\n",
        "from sklearn.tree import DecisionTreeClassifier\n",
        "from sklearn.feature_selection import RFECV\n",
        "\n",
        "# Split into Train & Test\n",
        "X = df.drop([\"Survived\"],axis=1)\n",
        "y = df[\"Survived\"]\n",
        "\n",
        "X_train, X_test, y_train, y_test = train_test_split(X,y,test_size=0.2,random_state=1)\n",
        "\n",
        "# Decision Tree Model\n",
        "tree_clf = DecisionTreeClassifier(random_state=1)\n",
        "\n",
        "# Cross Validation\n",
        "cv = StratifiedKFold(n_splits=5)\n",
        "\n",
        "# RFECV\n",
        "selector = RFECV(\n",
        "    estimator = tree_clf,\n",
        "    step=1,\n",
        "    cv=cv,\n",
        "    scoring='accuracy'\n",
        ")\n",
        "\n",
        "selector.fit(X_train,y_train)\n",
        "\n",
        "# Results\n",
        "print(\"Optimal Number of Features\", selector.n_features_)\n",
        "print(\"Selected features\", X_train.columns[selector.support_].tolist())"
      ],
      "metadata": {
        "colab": {
          "base_uri": "https://localhost:8080/"
        },
        "id": "MbWPEjOGNk2d",
        "outputId": "9096f986-bb24-438c-ee6c-e63140f39a6c"
      },
      "execution_count": null,
      "outputs": [
        {
          "output_type": "stream",
          "name": "stdout",
          "text": [
            "Optimal Number of Features 4\n",
            "Selected features ['Pclass', 'Sex', 'Age', 'Fare']\n"
          ]
        }
      ]
    },
    {
      "cell_type": "code",
      "source": [
        "# Reason behind choosing these four features as optimal features\n",
        "import matplotlib.pyplot as plt\n",
        "\n",
        "# Plot number of features vs. cross-validation score\n",
        "plt.figure(figsize=(8, 5))\n",
        "plt.title(\"RFECV - Number of Features vs. Cross-Validation Score\")\n",
        "plt.xlabel(\"Number of Selected Features\")\n",
        "plt.ylabel(\"Cross-Validation Score (Accuracy)\")\n",
        "\n",
        "plt.plot(range(1, len(selector.cv_results_['mean_test_score']) + 1),selector.cv_results_['mean_test_score'], marker='o')\n",
        "\n",
        "plt.grid(True)\n",
        "plt.show()\n"
      ],
      "metadata": {
        "colab": {
          "base_uri": "https://localhost:8080/",
          "height": 487
        },
        "id": "djthypcVWavL",
        "outputId": "b870e9ef-5067-4fd8-fd38-f9096da47348"
      },
      "execution_count": null,
      "outputs": [
        {
          "output_type": "display_data",
          "data": {
            "text/plain": [
              "<Figure size 800x500 with 1 Axes>"
            ],
            "image/png": "[encoded data removed]"
          },
          "metadata": {}
        }
      ]
    },
    {
      "cell_type": "code",
      "source": [
        "# Train Baseline Model and Optimized Model and\n",
        "# compare both using performance metrics\n",
        "from sklearn.metrics import accuracy_score, precision_score, recall_score, f1_score\n",
        "\n",
        "# Baseline Model (All Features)\n",
        "baseline_model = DecisionTreeClassifier(random_state=1)\n",
        "baseline_model.fit(X_train, y_train)\n",
        "baseline_preds = baseline_model.predict(X_test)\n",
        "\n",
        "# Optimized Model (Selected Features)\n",
        "selected_features = X_train.columns[selector.support_]\n",
        "optimized_model = DecisionTreeClassifier(random_state=1)\n",
        "optimized_model.fit(X_train[selected_features], y_train)\n",
        "optimized_preds = optimized_model.predict(X_test[selected_features])\n",
        "\n",
        "# Evaluation Function\n",
        "def evaluate_model(y_true, y_pred, model_name):\n",
        "    print(f\"\\n--- {model_name} ---\")\n",
        "    print(\"Accuracy: {:.2f}\".format(accuracy_score(y_true, y_pred)))\n",
        "    print(\"Precision: {:.2f}\".format(precision_score(y_true, y_pred)))\n",
        "    print(\"Recall: {:.2f}\".format(recall_score(y_true, y_pred)))\n",
        "    print(\"F1 Score: {:.2f}\".format(f1_score(y_true, y_pred)))\n",
        "\n",
        "# Evaluate both models\n",
        "evaluate_model(y_test, baseline_preds, \"Baseline Model (All 7 Features)\")\n",
        "evaluate_model(y_test, optimized_preds, \"Optimized Model (4 Features)\")"
      ],
      "metadata": {
        "colab": {
          "base_uri": "https://localhost:8080/"
        },
        "id": "cpwXexxESP4u",
        "outputId": "f241d055-0c5c-49a5-8e31-68f2fc42adf6"
      },
      "execution_count": null,
      "outputs": [
        {
          "output_type": "stream",
          "name": "stdout",
          "text": [
            "\n",
            "--- Baseline Model (All 7 Features) ---\n",
            "Accuracy: 0.78\n",
            "Precision: 0.76\n",
            "Recall: 0.66\n",
            "F1 Score: 0.71\n",
            "\n",
            "--- Optimized Model (4 Features) ---\n",
            "Accuracy: 0.77\n",
            "Precision: 0.76\n",
            "Recall: 0.64\n",
            "F1 Score: 0.70\n"
          ]
        }
      ]
    },
    {
      "cell_type": "code",
      "source": [
        "import numpy as np\n",
        "\n",
        "# Collect metrics into arrays\n",
        "metrics_names = [\"Accuracy\", \"Precision\", \"Recall\", \"F1 Score\"]\n",
        "\n",
        "baseline_scores = [\n",
        "    accuracy_score(y_test, baseline_preds),\n",
        "    precision_score(y_test, baseline_preds),\n",
        "    recall_score(y_test, baseline_preds),\n",
        "    f1_score(y_test, baseline_preds)\n",
        "]\n",
        "\n",
        "optimized_scores = [\n",
        "    accuracy_score(y_test, optimized_preds),\n",
        "    precision_score(y_test, optimized_preds),\n",
        "    recall_score(y_test, optimized_preds),\n",
        "    f1_score(y_test, optimized_preds)\n",
        "]\n",
        "\n",
        "# Create bar plot\n",
        "x = np.arange(len(metrics_names))  # label positions\n",
        "width = 0.35  # bar width\n",
        "\n",
        "fig, ax = plt.subplots(figsize=(8, 5))\n",
        "rects1 = ax.bar(x - width/2, baseline_scores, width, label='Baseline (All 7 Features)')\n",
        "rects2 = ax.bar(x + width/2, optimized_scores, width, label='Optimized (Selected 4 Features)')\n",
        "\n",
        "# Labels and formatting\n",
        "ax.set_ylabel('Score')\n",
        "ax.set_title('Baseline vs Optimized Model Performance')\n",
        "ax.set_xticks(x)\n",
        "ax.set_xticklabels(metrics_names)\n",
        "ax.set_ylim(0, 1.1)\n",
        "ax.legend()\n",
        "\n",
        "# Add value labels\n",
        "for rects in [rects1, rects2]:\n",
        "    for rect in rects:\n",
        "        height = rect.get_height()\n",
        "        ax.annotate(f'{height:.2f}',\n",
        "                    xy=(rect.get_x() + rect.get_width() / 2, height),\n",
        "                    xytext=(0, 3),\n",
        "                    textcoords=\"offset points\",\n",
        "                    ha='center', va='bottom')\n",
        "\n",
        "plt.tight_layout()\n",
        "plt.show()"
      ],
      "metadata": {
        "colab": {
          "base_uri": "https://localhost:8080/",
          "height": 507
        },
        "id": "oEGjNlCqbHFP",
        "outputId": "66966516-f412-41ef-bd63-1755507e5fd9"
      },
      "execution_count": null,
      "outputs": [
        {
          "output_type": "display_data",
          "data": {
            "text/plain": [
              "<Figure size 800x500 with 1 Axes>"
            ],
            "image/png": "[encoded data removed]"
          },
          "metadata": {}
        }
      ]
    }
  ]
}